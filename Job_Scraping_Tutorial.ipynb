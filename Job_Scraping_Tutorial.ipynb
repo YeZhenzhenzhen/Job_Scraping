{
 "cells": [
  {
   "cell_type": "code",
   "execution_count": 1,
   "metadata": {},
   "outputs": [],
   "source": [
    "# Data handling libraries\n",
    "import pandas as pd\n",
    "import numpy as np\n",
    "\n",
    "# Web Scraping Libraries\n",
    "import requests\n",
    "import bs4\n",
    "from bs4 import BeautifulSoup"
   ]
  },
  {
   "cell_type": "code",
   "execution_count": 2,
   "metadata": {},
   "outputs": [],
   "source": [
    "# URL is the base page for the data analyst job on indeed\n",
    "URL = 'https://ca.indeed.com/jobs?q=data%20analyst&l'\n",
    "\n",
    "page = requests.get(URL)"
   ]
  },
  {
   "cell_type": "code",
   "execution_count": 3,
   "metadata": {},
   "outputs": [],
   "source": [
    "# With the help of Beautiful soup function, we are able to generate a human readable html format text from the web page\n",
    "soup = BeautifulSoup(page.text, 'html.parser')"
   ]
  },
  {
   "cell_type": "code",
   "execution_count": 230,
   "metadata": {},
   "outputs": [],
   "source": [
    "#Initiating empty lists for the information we will be extracting from web pages.\n",
    "\n",
    "job_titles = []\n",
    "job_company = []\n",
    "job_location = []\n",
    "job_description = []\n",
    "jd_urls = []\n",
    "\n",
    "# Cycling through the pages that contain the job tiles. We are only taking 5 pages here.\n",
    "for i in range(0, 101, 20):\n",
    "    # \"i\" is assigned with each number from the loop\n",
    "    URL = 'https://ca.indeed.com/jobs?q=data%20analyst&l&start={}'.format(i)\n",
    "    # requests function will connect to the web page provided the link\n",
    "    page = requests.get(URL)\n",
    "    # Beautiful soup function will convert the webpage to a human readable html format\n",
    "    soup = BeautifulSoup(page.text, 'html.parser')\n",
    "    # Isolating the job titles in the web page and appending it to the empty list\n",
    "    for div in soup.find_all(name = 'div', attrs = {'class': 'row'}):\n",
    "        for a in div.find_all(name = 'a', attrs = {'data-tn-element': 'jobTitle'}):\n",
    "            job_titles.append(a['title'])\n",
    "    \n",
    "    # Isolating the job company in the web page and appending it to the empty list\n",
    "    for div in soup.find_all(name = 'div', attrs = {'class': 'row'}):\n",
    "        company = div.find_all(name = 'span', attrs = {'class': 'company'})\n",
    "        if len(company) > 0:\n",
    "            for b in company:\n",
    "                job_company.append(b.text.strip())\n",
    "        else:\n",
    "            test = div.find_all(name = 'span', attrs = {'class': 'result-link-source'})\n",
    "            for span in test:\n",
    "                job_company.append(span.text.strip)\n",
    "    \n",
    "    # Same as the title and company\n",
    "    for i in soup.find_all():\n",
    "        if 'data-rc-loc' in i.attrs:\n",
    "            job_location.append(i['data-rc-loc'])\n",
    "    \n",
    "    # Since there is only a short job description in the job tile, we have to open each individual job page to \n",
    "    # get the full job descrition\n",
    "    for div in soup.find_all(name = 'div', attrs = {'class': 'row'}):\n",
    "        for a in div.find_all(name = 'a', attrs = {'data-tn-element': 'jobTitle'}):\n",
    "            url_job = 'http://indeed.com' + a['href']\n",
    "            page_job = requests.get(url_job)\n",
    "            soup_job = BeautifulSoup(page_job.text, 'html.parser')\n",
    "            points = soup_job.find_all(name = 'div', attrs = {'class': 'jobsearch-JobComponent-description'})\n",
    "            points = [j.text for j in points]\n",
    "            job_description.append('\\n'.join(points))\n",
    "            jd_urls.append(url_job)"
   ]
  },
  {
   "cell_type": "code",
   "execution_count": 234,
   "metadata": {},
   "outputs": [],
   "source": [
    "# Creating a pandas Data Frame from the finalized lists\n",
    "jobs_df = pd.DataFrame({'Job Title': job_titles, 'Company': job_company,\n",
    "                       'Location': job_location, 'Job Description': job_description,\n",
    "                       'URL': jd_urls})"
   ]
  },
  {
   "cell_type": "code",
   "execution_count": 235,
   "metadata": {},
   "outputs": [],
   "source": [
    "# Exporting it to a csv file\n",
    "jobs_df.to_csv('indeed_jobs.csv')"
   ]
  },
  {
   "cell_type": "code",
   "execution_count": null,
   "metadata": {},
   "outputs": [],
   "source": []
  }
 ],
 "metadata": {
  "kernelspec": {
   "display_name": "Python 3",
   "language": "python",
   "name": "python3"
  },
  "language_info": {
   "codemirror_mode": {
    "name": "ipython",
    "version": 3
   },
   "file_extension": ".py",
   "mimetype": "text/x-python",
   "name": "python",
   "nbconvert_exporter": "python",
   "pygments_lexer": "ipython3",
   "version": "3.6.8"
  }
 },
 "nbformat": 4,
 "nbformat_minor": 2
}
